{
 "cells": [
  {
   "cell_type": "code",
   "execution_count": null,
   "metadata": {},
   "outputs": [],
   "source": [
    "import cv2"
   ]
  },
  {
   "cell_type": "code",
   "execution_count": null,
   "metadata": {},
   "outputs": [],
   "source": [
    "for folder in [\"Cowboy\"]:\n",
    "    img = cv2.imread(f\"images/{folder}/base.jpg\")\n",
    "\n",
    "    imgL=img[:, 0:int(img.shape[1]/2)]\n",
    "    imgR=img[:, int(img.shape[1]/2):int(img.shape[1])]\n",
    "\n",
    "    cv2.imwrite(f'images/{folder}/L.jpg', imgL)\n",
    "    cv2.imwrite(f'images/{folder}/R.jpg', imgR)"
   ]
  }
 ],
 "metadata": {
  "language_info": {
   "name": "python"
  }
 },
 "nbformat": 4,
 "nbformat_minor": 2
}
