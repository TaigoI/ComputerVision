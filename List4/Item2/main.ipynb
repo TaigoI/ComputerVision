{
 "cells": [
  {
   "cell_type": "code",
   "execution_count": 184,
   "metadata": {},
   "outputs": [],
   "source": [
    "import cv2\n",
    "import numpy as np\n",
    "import matplotlib.pyplot as plt"
   ]
  },
  {
   "cell_type": "code",
   "execution_count": 185,
   "metadata": {},
   "outputs": [],
   "source": [
    "def compute_depth(imageL, imageR, disp=128, block=15):\n",
    "    stereo = cv2.StereoBM_create(numDisparities=disp, blockSize=block)\n",
    "\n",
    "    grayL = cv2.blur(cv2.cvtColor(imageL, cv2.COLOR_BGR2GRAY), (5,5))\n",
    "    grayR = cv2.blur(cv2.cvtColor(imageR, cv2.COLOR_BGR2GRAY), (5,5))\n",
    "\n",
    "    disparity = stereo.compute(grayL, grayR)\n",
    "    return disparity"
   ]
  },
  {
   "cell_type": "code",
   "execution_count": 186,
   "metadata": {},
   "outputs": [],
   "source": [
    "def overlay_images(source, overlay, mask):\n",
    "    mask = mask.astype(bool)\n",
    "    if(len(mask.shape) == 2):\n",
    "        mask = np.dstack((mask, mask, mask))\n",
    "\n",
    "    result = np.copy(source)\n",
    "    h, w = overlay.shape[:2]\n",
    "    result[0:h, 0:w] = (overlay * mask) + (source[0:h, 0:w] * ~mask)\n",
    "\n",
    "    return result"
   ]
  },
  {
   "cell_type": "code",
   "execution_count": 187,
   "metadata": {},
   "outputs": [],
   "source": [
    "def load_configs(config_path):\n",
    "    configs = {}\n",
    "    with open(config_path, 'r') as f:\n",
    "        lines = f.readlines()\n",
    "        for line in lines:\n",
    "            key, value = line.split(': ')\n",
    "            configs[key.strip()] = np.array(value.strip().split(\" \")).astype('float32').reshape(3,-1)\n",
    "    return configs\n"
   ]
  },
  {
   "cell_type": "code",
   "execution_count": 188,
   "metadata": {},
   "outputs": [],
   "source": [
    "def compute_projection_matrix(configs, shape):\n",
    "    projection_matrix = np.zeros((4,4))\n",
    "    cv2.stereoRectify(Q = projection_matrix,\n",
    "                      cameraMatrix1 = configs[\"P2\"][:,:3],\n",
    "                      cameraMatrix2 = configs[\"P3\"][:,:3],\n",
    "                      imageSize = shape[:2],\n",
    "                      R = np.identity(3),\n",
    "                      T = np.array([0.54, 0., 0.]),\n",
    "                      distCoeffs1 = 0, distCoeffs2 = 0, \n",
    "                      R1 = None, R2 = None, P1 =  None, P2 =  None)\n",
    "    return projection_matrix"
   ]
  },
  {
   "cell_type": "code",
   "execution_count": 189,
   "metadata": {},
   "outputs": [],
   "source": [
    "def compute_points_and_colors(points, left_image, disparity):\n",
    "    reflect_matrix = np.identity(3)\n",
    "    reflect_matrix[0] *= -1\n",
    "    points = np.matmul(points,reflect_matrix)\n",
    "\n",
    "    colors = cv2.cvtColor(left_image, cv2.COLOR_BGR2RGB)\n",
    "\n",
    "    mask = disparity > disparity.min()\n",
    "    verts = points[mask]\n",
    "    colors = colors[mask]\n",
    "    \n",
    "    idx = np.fabs(verts[:,0]) < 4.5\n",
    "    verts = verts[idx]\n",
    "    colors = colors.reshape(-1, 3)\n",
    "    colors = colors[idx]\n",
    "\n",
    "    return verts, colors\n"
   ]
  },
  {
   "cell_type": "code",
   "execution_count": 190,
   "metadata": {},
   "outputs": [],
   "source": [
    "def write_ply(fn, verts, colors):\n",
    "    ply_header = '''ply\n",
    "    format ascii 1.0\n",
    "    element vertex %(vert_num)d\n",
    "    property float x\n",
    "    property float y\n",
    "    property float z\n",
    "    property uchar red\n",
    "    property uchar green\n",
    "    property uchar blue\n",
    "    end_header\n",
    "    '''\n",
    "    out_colors = colors.copy()\n",
    "    verts = verts.reshape(-1, 3)\n",
    "    verts = np.hstack([verts, out_colors])\n",
    "    with open(fn, 'wb') as f:\n",
    "        f.write((ply_header % dict(vert_num=len(verts))).encode('utf-8'))\n",
    "        np.savetxt(f, verts, fmt='%f %f %f %d %d %d ')"
   ]
  },
  {
   "cell_type": "code",
   "execution_count": 196,
   "metadata": {},
   "outputs": [
    {
     "name": "stderr",
     "output_type": "stream",
     "text": [
      "/tmp/ipykernel_5892/438800613.py:5: RuntimeWarning: invalid value encountered in matmul\n",
      "  points = np.matmul(points,reflect_matrix)\n"
     ]
    }
   ],
   "source": [
    "FOLDER = \"Sample\"\n",
    "\n",
    "left = cv2.imread(f'images/{FOLDER}/L.png')\n",
    "right = cv2.imread(f'images/{FOLDER}/R.png')\n",
    "configs = load_configs(f'images/{FOLDER}/config.txt')\n",
    "\n",
    "projection_matrix = compute_projection_matrix(configs, left.shape)\n",
    "\n",
    "disparity = compute_depth(left, right, disp=16*7, block=11)\n",
    "\n",
    "points = cv2.reprojectImageTo3D(disparity, projection_matrix)\n",
    "verts, colors = compute_points_and_colors(points, left, disparity)\n",
    "\n",
    "write_ply(f'results/plys/{FOLDER}.ply', verts, colors)\n"
   ]
  },
  {
   "cell_type": "code",
   "execution_count": null,
   "metadata": {},
   "outputs": [],
   "source": []
  }
 ],
 "metadata": {
  "kernelspec": {
   "display_name": "Python 3",
   "language": "python",
   "name": "python3"
  },
  "language_info": {
   "codemirror_mode": {
    "name": "ipython",
    "version": 3
   },
   "file_extension": ".py",
   "mimetype": "text/x-python",
   "name": "python",
   "nbconvert_exporter": "python",
   "pygments_lexer": "ipython3",
   "version": "3.11.7"
  }
 },
 "nbformat": 4,
 "nbformat_minor": 2
}
