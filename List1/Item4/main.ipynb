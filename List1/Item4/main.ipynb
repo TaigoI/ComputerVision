{
 "cells": [
  {
   "cell_type": "code",
   "execution_count": 1,
   "metadata": {},
   "outputs": [],
   "source": [
    "import numpy as np\n",
    "import cv2\n",
    "import matplotlib.pyplot as plt"
   ]
  },
  {
   "cell_type": "code",
   "execution_count": 2,
   "metadata": {},
   "outputs": [],
   "source": [
    "def plot_compare(*args):\n",
    "    L = len(args)\n",
    "\n",
    "    if (L == 0):\n",
    "        return\n",
    "    elif (L == 1):\n",
    "        plt.imshow(args[0])\n",
    "        plt.axis('off')\n",
    "    else:\n",
    "        f, axs = plt.subplots(1, L, figsize=(10,10*L))\n",
    "        for i, ax in enumerate(axs):\n",
    "            ax.imshow(args[i])\n",
    "            ax.axis('off')\n",
    "    plt.show()\n",
    "        "
   ]
  },
  {
   "cell_type": "code",
   "execution_count": 3,
   "metadata": {},
   "outputs": [],
   "source": [
    "def convolve_filter(channel, FILTER):\n",
    "    N = len(FILTER)\n",
    "    view_shape = tuple(np.subtract(channel.shape, (N,N)) + 1) + (N, N)\n",
    "    strides = channel.strides + channel.strides\n",
    "    sub_matrices = np.lib.stride_tricks.as_strided(channel,view_shape,strides)\n",
    "    filtered = np.einsum('ij,klij',FILTER,sub_matrices)\n",
    "    return np.clip(filtered, 0, 255).astype(np.uint8)"
   ]
  },
  {
   "cell_type": "markdown",
   "metadata": {},
   "source": [
    "### Item 4\n",
    "\n",
    "Um filtro passa-baixa bastante conhecido é o filtro Gaussiano. Através de uma máscara determinada por um desvio padrão σ, é possível fazer o que chamamos de suavização gaussiana de uma imagem. Considere o filtro 5x5 de desvio padrão unitário abaixo:\n",
    "\n",
    "$g = \\begin{bmatrix} \n",
    "1/273 &  4/273 &  7/273 &  4/273 &  1/273 \\\\\n",
    "4/273 & 16/273 & 26/273 & 16/273 &  4/273 \\\\\n",
    "7/273 & 26/273 & 41/273 & 26/273 &  7/273 \\\\\n",
    "4/273 & 16/273 & 26/273 & 16/273 &  4/273 \\\\\n",
    "1/273 &  4/273 &  7/273 &  4/273 &  1/273 \\\\\n",
    "\\end{bmatrix}$\n",
    "\n",
    "Crie uma imagem I de dimensões 100 × 100 que contém um único valor não nulo localizado no centro da imagem.<br>Utilizando o filtro gaussiano acima, calcule e exiba I * g, onde ∗ é a notação para o operador de convolução."
   ]
  },
  {
   "cell_type": "markdown",
   "metadata": {},
   "source": [
    "#### Result"
   ]
  },
  {
   "cell_type": "code",
   "execution_count": 4,
   "metadata": {},
   "outputs": [
    {
     "data": {
      "image/png": "[encoded data removed]",
      "text/plain": [
       "<Figure size 1000x2000 with 2 Axes>"
      ]
     },
     "metadata": {},
     "output_type": "display_data"
    }
   ],
   "source": [
    "FILTER = np.array([[ 1,  4,  7,  4,  1],\n",
    "                   [ 4, 16, 26, 16,  4],\n",
    "                   [ 7, 26, 41, 26,  7],\n",
    "                   [ 4, 16, 26, 16,  4],\n",
    "                   [ 1,  4,  7,  4,  1]]) / 273\n",
    "\n",
    "blank = np.zeros((100,100)).astype(np.uint8)\n",
    "blank[49][49] = 255\n",
    "\n",
    "result = convolve_filter(blank, FILTER)\n",
    "plot_compare(blank, result)\n"
   ]
  }
 ],
 "metadata": {
  "kernelspec": {
   "display_name": "Python 3",
   "language": "python",
   "name": "python3"
  },
  "language_info": {
   "codemirror_mode": {
    "name": "ipython",
    "version": 3
   },
   "file_extension": ".py",
   "mimetype": "text/x-python",
   "name": "python",
   "nbconvert_exporter": "python",
   "pygments_lexer": "ipython3",
   "version": "3.11.8"
  }
 },
 "nbformat": 4,
 "nbformat_minor": 2
}
